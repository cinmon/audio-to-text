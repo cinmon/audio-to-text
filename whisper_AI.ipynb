{
  "nbformat": 4,
  "nbformat_minor": 0,
  "metadata": {
    "colab": {
      "provenance": [],
      "authorship_tag": "ABX9TyNHegbQqrIZqCXkL/TGtokB",
      "include_colab_link": true
    },
    "kernelspec": {
      "name": "python3",
      "display_name": "Python 3"
    },
    "language_info": {
      "name": "python"
    }
  },
  "cells": [
    {
      "cell_type": "markdown",
      "metadata": {
        "id": "view-in-github",
        "colab_type": "text"
      },
      "source": [
        "<a href=\"https://colab.research.google.com/github/cinmon/audio-to-text/blob/main/whisper_AI.ipynb\" target=\"_parent\"><img src=\"https://colab.research.google.com/assets/colab-badge.svg\" alt=\"Open In Colab\"/></a>"
      ]
    },
    {
      "cell_type": "code",
      "execution_count": null,
      "metadata": {
        "id": "QJ3viRNv9amM"
      },
      "outputs": [],
      "source": [
        "!pip install git+https://github.com/openai/whisper.git\n",
        "!pip install ffmpeg-python"
      ]
    },
    {
      "cell_type": "code",
      "source": [
        "# Using Open AI's Whisper ASR model\n",
        "import whisper\n",
        "from google.colab import files"
      ],
      "metadata": {
        "id": "e3pvgz4A-UKy"
      },
      "execution_count": null,
      "outputs": []
    },
    {
      "cell_type": "code",
      "source": [
        "model = whisper.load_model(\"base\")"
      ],
      "metadata": {
        "id": "RD3X2Sfg-X8l"
      },
      "execution_count": null,
      "outputs": []
    },
    {
      "cell_type": "code",
      "source": [
        "def transcribe_audio(file_path, output_file=\"transcription.txt\"):\n",
        "    # Transcription\n",
        "    result = model.transcribe(file_path)\n",
        "    print(\"Transcription: \", result['text'])\n",
        "\n",
        "    # Save to a text file\n",
        "    with open(output_file, \"w\") as f:\n",
        "        f.write(result['text'])\n",
        "\n",
        "    print(f\"Transcription saved to {output_file}\")"
      ],
      "metadata": {
        "id": "dSoY0bNM-cn9"
      },
      "execution_count": null,
      "outputs": []
    },
    {
      "cell_type": "code",
      "source": [
        "uploaded = files.upload()"
      ],
      "metadata": {
        "id": "aDA4ck4kAqrw"
      },
      "execution_count": null,
      "outputs": []
    },
    {
      "cell_type": "code",
      "source": [
        "file_name = next(iter(uploaded))"
      ],
      "metadata": {
        "id": "PuQhb3aIA4pF"
      },
      "execution_count": null,
      "outputs": []
    },
    {
      "cell_type": "code",
      "source": [
        "transcribe_audio(file_name)"
      ],
      "metadata": {
        "id": "dlW7_Y6iAcWU"
      },
      "execution_count": null,
      "outputs": []
    }
  ]
}